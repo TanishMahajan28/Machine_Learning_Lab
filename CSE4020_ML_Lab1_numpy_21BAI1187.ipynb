{
  "nbformat": 4,
  "nbformat_minor": 0,
  "metadata": {
    "colab": {
      "provenance": [],
      "include_colab_link": true
    },
    "kernelspec": {
      "name": "python3",
      "display_name": "Python 3"
    },
    "language_info": {
      "name": "python"
    }
  },
  "cells": [
    {
      "cell_type": "markdown",
      "metadata": {
        "id": "view-in-github",
        "colab_type": "text"
      },
      "source": [
        "<a href=\"https://colab.research.google.com/github/TanishMahajan28/Machine_Learning_Lab/blob/main/CSE4020_ML_Lab1_numpy_21BAI1187.ipynb\" target=\"_parent\"><img src=\"https://colab.research.google.com/assets/colab-badge.svg\" alt=\"Open In Colab\"/></a>"
      ]
    },
    {
      "cell_type": "markdown",
      "source": [
        "# **Exploratory Data Analysis (EDA)**\n",
        "*   Load a dataset\n",
        "*   statistical summaries\n",
        "*   data visualization\n",
        "\n",
        "\n",
        "\n",
        "\n"
      ],
      "metadata": {
        "id": "_VcEQiq0unSt"
      }
    },
    {
      "cell_type": "markdown",
      "source": [
        "# Python Libraries for EDA\n",
        "\n",
        "* numpy\n",
        "* pandas\n",
        "* matplotlib\n",
        "\n",
        "\n",
        "\n"
      ],
      "metadata": {
        "id": "YTQCoBTDvtR8"
      }
    },
    {
      "cell_type": "markdown",
      "source": [
        "# numpy\n",
        "NumPy is a library for the Python programming language, adding support for large, multi-dimensional arrays and matrices, along with a large collection of high-level mathematical functions to operate on these arrays"
      ],
      "metadata": {
        "id": "wHgLKC50wZlV"
      }
    },
    {
      "cell_type": "markdown",
      "source": [
        "# Array\n",
        "A numpy array is a grid of values, all of the same type, and is indexed by a tuple of nonnegative integers. The number of dimensions is the rank of the array; the shape of an array is a tuple of integers giving the size of the array along each dimension.\n",
        "\n",
        "In Numpy dimensions are called axes. The number of axes is rank. For example, the coordinates of a point in 3D space [1, 2, 1] is an array of rank 1, because it has one axis."
      ],
      "metadata": {
        "id": "TPrZXHYHw-g9"
      }
    },
    {
      "cell_type": "code",
      "execution_count": 14,
      "metadata": {
        "id": "QjxGlP1luVCz",
        "colab": {
          "base_uri": "https://localhost:8080/"
        },
        "outputId": "3c099d51-3ae1-4940-86a1-c9ae1dceaf84"
      },
      "outputs": [
        {
          "output_type": "stream",
          "name": "stdout",
          "text": [
            "<class 'numpy.ndarray'>\n",
            "[1 2 3]\n",
            "(3,)\n",
            "1 2 3\n",
            "[5 2 3]\n",
            "(2, 3)\n",
            "1 2 4\n"
          ]
        }
      ],
      "source": [
        "import numpy as np\n",
        "\n",
        "a = np.array([1, 2, 3])   # Create a 1-D (rank 1) array from a list\n",
        "print(type(a))            # Prints \"<class 'numpy.ndarray'>\"\n",
        "print(a)                  # Prints array a\n",
        "print(a.shape)            # Prints \"(3,)\"  i.e. 1 dimenion with 3 elements\n",
        "print(a[0], a[1], a[2])   # Prints \"1 2 3\"\n",
        "a[0] = 5                  # Change an element of the array\n",
        "print(a)                  # Prints \"[5, 2, 3]\"\n",
        "\n",
        "bmat = np.array([[1,2,3],[4,5,6]])    # Create a 2D (rank 2) array\n",
        "print(bmat.shape)                     # Prints \"(2, 3)\" 2 dimensions \n",
        "print(bmat[0, 0], bmat[0, 1], bmat[1, 0])   # Prints \"1 2 4\""
      ]
    },
    {
      "cell_type": "code",
      "source": [
        "#create a 3D array of shape (3,2,2) i.e 3 2 x 2 matrices\n",
        "\n",
        "import numpy as np\n",
        "\n",
        "a = np.array([[1,2],[4,5]])\n",
        "b = np.array([[5,6],[7,8]])\n",
        "c = np.array([[9,0],[1,8]])\n",
        "print(a)\n",
        "print(b)\n",
        "print(c)"
      ],
      "metadata": {
        "id": "kGJrBCmA-0MJ",
        "colab": {
          "base_uri": "https://localhost:8080/"
        },
        "outputId": "1dfead2d-c548-412a-d65d-636c0be60551"
      },
      "execution_count": 15,
      "outputs": [
        {
          "output_type": "stream",
          "name": "stdout",
          "text": [
            "[[1 2]\n",
            " [4 5]]\n",
            "[[5 6]\n",
            " [7 8]]\n",
            "[[9 0]\n",
            " [1 8]]\n"
          ]
        }
      ]
    },
    {
      "cell_type": "code",
      "source": [
        "print(a.dtype)\n"
      ],
      "metadata": {
        "id": "yo2XJ0sToGEb",
        "colab": {
          "base_uri": "https://localhost:8080/"
        },
        "outputId": "9fc74c98-1c94-4c0f-d3de-3f7f4d6e30c4"
      },
      "execution_count": 16,
      "outputs": [
        {
          "output_type": "stream",
          "name": "stdout",
          "text": [
            "int64\n"
          ]
        }
      ]
    },
    {
      "cell_type": "code",
      "source": [
        "R=np.array([1.2,3.5])\n",
        "print(R.dtype)"
      ],
      "metadata": {
        "id": "4Fz-oypyoaDW",
        "colab": {
          "base_uri": "https://localhost:8080/"
        },
        "outputId": "8922fd60-6872-4947-931b-1d317ddfffa1"
      },
      "execution_count": 17,
      "outputs": [
        {
          "output_type": "stream",
          "name": "stdout",
          "text": [
            "float64\n"
          ]
        }
      ]
    },
    {
      "cell_type": "code",
      "source": [
        "#creating float array\n",
        "Y=np.array([1.4, 4.5],dtype=np.float64)\n",
        "print(type(Y))\n",
        "print(Y.dtype)\n",
        "Y1=np.array([1.4, 4.5],dtype=float)\n",
        "print(type(Y1))\n",
        "print(Y1.dtype)"
      ],
      "metadata": {
        "id": "_meSscfc_nZD",
        "colab": {
          "base_uri": "https://localhost:8080/"
        },
        "outputId": "8dd8acb8-f98c-43e3-cd53-924a5edf37a0"
      },
      "execution_count": 18,
      "outputs": [
        {
          "output_type": "stream",
          "name": "stdout",
          "text": [
            "<class 'numpy.ndarray'>\n",
            "float64\n",
            "<class 'numpy.ndarray'>\n",
            "float64\n"
          ]
        }
      ]
    },
    {
      "cell_type": "markdown",
      "source": [
        "Extracting specific elements from the array"
      ],
      "metadata": {
        "id": "xeb4BvlzAvlH"
      }
    },
    {
      "cell_type": "code",
      "source": [
        "Z=np.array([[1,2,3,11],[4,5,6,23],[7,8,9,56]])\n",
        "print(Z)\n",
        "print(Z[0][1])\n",
        "print(Z[0,:]) # prints first row\n",
        "#write code to print first column \n",
        "\n",
        "print(Z[:,0])\n",
        "\n",
        "#write code to print submtarix first 2 rows and first 2 columns i.e [[1,2],[4,5]]\n",
        "\n",
        "print([[Z[0][0],Z[0][1]],[Z[1][0],Z[1][1]]])\n",
        "\n"
      ],
      "metadata": {
        "id": "9Vj9BhGVA2Gu",
        "colab": {
          "base_uri": "https://localhost:8080/"
        },
        "outputId": "e699aedd-0b64-44ef-ae82-7e5cc70215a7"
      },
      "execution_count": 19,
      "outputs": [
        {
          "output_type": "stream",
          "name": "stdout",
          "text": [
            "[[ 1  2  3 11]\n",
            " [ 4  5  6 23]\n",
            " [ 7  8  9 56]]\n",
            "2\n",
            "[ 1  2  3 11]\n",
            "[1 4 7]\n",
            "[[1, 2], [4, 5]]\n"
          ]
        }
      ]
    },
    {
      "cell_type": "code",
      "source": [
        "#print all non-zero elments from matrix H\n",
        "H=np.array([[1,0,3,0],[0,4,0,6],[0,7,8,9]])\n"
      ],
      "metadata": {
        "id": "v01FUHU2A2Em"
      },
      "execution_count": 20,
      "outputs": []
    },
    {
      "cell_type": "markdown",
      "source": [
        "Numpy also provides many functions to create arrays:"
      ],
      "metadata": {
        "id": "DoNsC3zoylgF"
      }
    },
    {
      "cell_type": "markdown",
      "source": [
        "# Array indexing\n",
        "Numpy offers several ways to index into arrays."
      ],
      "metadata": {
        "id": "CMAHXKQFy47U"
      }
    },
    {
      "cell_type": "code",
      "source": [
        "# Create the following 2-D array with shape (3, 4)\n",
        "# [[ 1  2  3  4]\n",
        "#  [ 5  6  7  8]\n",
        "#  [ 9 10 11 12]]\n",
        "a = np.array([[1,2,3,4],[5,6,7,8],[9,10,11,12]])\n",
        "\n",
        "#take slice of 0 to 2 from array a \n",
        "#b =   #0 to 2\n",
        "print(b)\n",
        "# A slice of an array is a view into the same data, so modifying it\n",
        "# will modify the original array.\n",
        "print(a[0, 1])   # Prints \"2\"\n",
        "b[0, 0] = 77     # b[0, 0] is the same piece of data as a[0, 1]\n",
        "print(a[0, 1])   # Prints \"77\"\n",
        "print(a)"
      ],
      "metadata": {
        "colab": {
          "base_uri": "https://localhost:8080/"
        },
        "id": "M3NTCpqWzHj0",
        "outputId": "5caf361a-ab8a-4d58-a4fa-a011476fc950"
      },
      "execution_count": 21,
      "outputs": [
        {
          "output_type": "stream",
          "name": "stdout",
          "text": [
            "[[5 6]\n",
            " [7 8]]\n",
            "2\n",
            "2\n",
            "[[ 1  2  3  4]\n",
            " [ 5  6  7  8]\n",
            " [ 9 10 11 12]]\n"
          ]
        }
      ]
    },
    {
      "cell_type": "code",
      "source": [],
      "metadata": {
        "id": "oPXE21lkpkNe"
      },
      "execution_count": null,
      "outputs": []
    },
    {
      "cell_type": "code",
      "source": [
        "# Create a new array from which we will select elements\n",
        "a = np.array([[1,2,3], [4,5,6], [7,8,9], [10, 11, 12]])\n",
        "\n",
        "print(a)  # prints \"array([[ 1,  2,  3],\n",
        "          #                [ 4,  5,  6],\n",
        "          #                [ 7,  8,  9],\n",
        "          #                [10, 11, 12]])\"\n",
        "\n",
        "# Create an array of indices\n",
        "b = np.array([0, 2, 0, 1])\n",
        "\n",
        "# Select one element from each row of a using the indices in b , hint : use arange\n",
        "print(a[1])  # Prints \"[ 1  6  7 11]\"\n",
        "\n"
      ],
      "metadata": {
        "id": "Z6GpkS03zlBT",
        "colab": {
          "base_uri": "https://localhost:8080/"
        },
        "outputId": "f749695b-28d8-4b66-e862-a8926b9691b7"
      },
      "execution_count": 28,
      "outputs": [
        {
          "output_type": "stream",
          "name": "stdout",
          "text": [
            "[[ 1  2  3]\n",
            " [ 4  5  6]\n",
            " [ 7  8  9]\n",
            " [10 11 12]]\n",
            "[4 5 6]\n"
          ]
        }
      ]
    },
    {
      "cell_type": "code",
      "source": [
        "a = np.array([[1,2], [3, 4], [5, 6]])\n",
        "\n",
        "bool_idx = a>2      #write your code here to Find the elements of a that are bigger than 2;\n",
        "                     # this returns a numpy array of Booleans of the same\n",
        "                     # shape as a, where each slot of bool_idx tells\n",
        "                     # whether that element of a is > 2.\n",
        "\n",
        "print(bool_idx)      # Prints \"[[False False]\n",
        "                     #          [ True  True]\n",
        "                     #          [ True  True]]\"\n",
        "\n",
        "# We use boolean array indexing to construct a rank 1 array\n",
        "# consisting of the elements of a corresponding to the True values\n",
        "# of bool_idx\n",
        "print(a[bool_idx])  # Prints \"[3 4 5 6]\"\n",
        "\n",
        "# We can do all of the above in a single concise statement:\n",
        "print(a[a > 2])     # Prints \"[3 4 5 6]\""
      ],
      "metadata": {
        "id": "p-JTNVcOzzHM",
        "colab": {
          "base_uri": "https://localhost:8080/"
        },
        "outputId": "c5940678-8ae5-4294-a172-b2c9d9513169"
      },
      "execution_count": 39,
      "outputs": [
        {
          "output_type": "stream",
          "name": "stdout",
          "text": [
            "[[False False]\n",
            " [ True  True]\n",
            " [ True  True]]\n",
            "[3 4 5 6]\n",
            "[3 4 5 6]\n"
          ]
        }
      ]
    },
    {
      "cell_type": "markdown",
      "source": [
        "# Array Math"
      ],
      "metadata": {
        "id": "tJEbgltO0R5U"
      }
    },
    {
      "cell_type": "code",
      "source": [
        "X=np.array([1,2,3,4])\n",
        "X=X+2\n",
        "print(X)"
      ],
      "metadata": {
        "colab": {
          "base_uri": "https://localhost:8080/"
        },
        "id": "43KuOb27_QGW",
        "outputId": "15d50996-238c-440d-f93b-20d716364324"
      },
      "execution_count": 29,
      "outputs": [
        {
          "output_type": "stream",
          "name": "stdout",
          "text": [
            "[3 4 5 6]\n"
          ]
        }
      ]
    },
    {
      "cell_type": "code",
      "source": [
        "x = np.array([[1,2],[3,4]], dtype=np.float64)\n",
        "y = np.array([[5,6],[7,8]], dtype=np.float64)\n",
        "\n",
        "# Elementwise sum; both produce the array\n",
        "# [[ 6.0  8.0]\n",
        "#  [10.0 12.0]]\n",
        "\n",
        "#write code here \n",
        "\n",
        "# Elementwise difference; both produce the array\n",
        "# [[-4.0 -4.0]\n",
        "#  [-4.0 -4.0]]\n",
        "\n",
        "#write code here \n",
        "\n",
        "# Elementwise product; both produce the array\n",
        "# [[ 5.0 12.0]\n",
        "#  [21.0 32.0]]\n",
        "\n",
        "#write code here \n",
        "\n",
        "\n",
        "# Elementwise square root; produces the array\n",
        "# [[ 1.          1.41421356]\n",
        "#  [ 1.73205081  2.        ]]\n",
        "#write your code here"
      ],
      "metadata": {
        "id": "cvMciGHi_NKQ"
      },
      "execution_count": 30,
      "outputs": []
    },
    {
      "cell_type": "markdown",
      "source": [
        " How to represent missing values and infinite?\n",
        "\n",
        " Missing values can be represented using np.nan object, while np.inf represents infinite. Let’s place some in arr2d."
      ],
      "metadata": {
        "id": "nDFkXUs9CZbd"
      }
    },
    {
      "cell_type": "code",
      "source": [
        "list2 = [[1, 2, 3, 4],[3, 4, 5, 6], [5, 6, 7, 8]]\n",
        "arr2 = np.array(list2, dtype='float')\n",
        "# Insert a nan and an inf\n",
        "arr2[1,1] = np.nan  # not a number\n",
        "arr2[1,2] = np.inf  # infinite\n",
        "arr2"
      ],
      "metadata": {
        "id": "wDlc1Q4GCD-u",
        "colab": {
          "base_uri": "https://localhost:8080/"
        },
        "outputId": "39bc13e9-666f-49dc-b79b-8c7f3d020c62"
      },
      "execution_count": 31,
      "outputs": [
        {
          "output_type": "execute_result",
          "data": {
            "text/plain": [
              "array([[ 1.,  2.,  3.,  4.],\n",
              "       [ 3., nan, inf,  6.],\n",
              "       [ 5.,  6.,  7.,  8.]])"
            ]
          },
          "metadata": {},
          "execution_count": 31
        }
      ]
    },
    {
      "cell_type": "code",
      "source": [
        "# Replace nan and inf with -1. Don't use arr2 == np.nan\n",
        "missing_bool = np.isnan(arr2) | np.isinf(arr2)\n",
        "arr2[missing_bool] = -1  \n",
        "arr2"
      ],
      "metadata": {
        "colab": {
          "base_uri": "https://localhost:8080/"
        },
        "id": "HyAClk7Kqocr",
        "outputId": "23889595-bc4e-4fba-9cae-e4364f3d2c93"
      },
      "execution_count": 32,
      "outputs": [
        {
          "output_type": "execute_result",
          "data": {
            "text/plain": [
              "array([[ 1.,  2.,  3.,  4.],\n",
              "       [ 3., -1., -1.,  6.],\n",
              "       [ 5.,  6.,  7.,  8.]])"
            ]
          },
          "metadata": {},
          "execution_count": 32
        }
      ]
    },
    {
      "cell_type": "markdown",
      "source": [
        "# Compute mean, min, max on the ndarray?"
      ],
      "metadata": {
        "id": "tFRruyZqqvFl"
      }
    },
    {
      "cell_type": "code",
      "source": [
        "a = np.array([[1,2,3], [4,5,6], [7,8,9], [10, 11, 12]])\n",
        "print(\"Mean value is: \", np.mean(a))\n",
        "print(\"Max value is: \", np.max(a))\n",
        "print(\"Min value is: \", np.min(a))\n",
        "# Row wise and column wise min\n",
        "print(\"Column wise minimum: \", np.amin(a, axis=0)) #use np.amin\n",
        "print(\"Row wise minimum: \", np.amin(a, axis=1))\n"
      ],
      "metadata": {
        "id": "N56CDsyArFHm",
        "colab": {
          "base_uri": "https://localhost:8080/"
        },
        "outputId": "4ff1d1a1-7cbc-4fa1-f67b-ddc07622b314"
      },
      "execution_count": 34,
      "outputs": [
        {
          "output_type": "stream",
          "name": "stdout",
          "text": [
            "Mean value is:  6.5\n",
            "Max value is:  12\n",
            "Min value is:  1\n",
            "Column wise minimum:  [1 2 3]\n",
            "Row wise minimum:  [ 1  4  7 10]\n"
          ]
        }
      ]
    },
    {
      "cell_type": "markdown",
      "source": [
        "# Copy array"
      ],
      "metadata": {
        "id": "8sSGu3GGrjRi"
      }
    },
    {
      "cell_type": "code",
      "source": [
        "# Assign portion of arr2 to arr2a. Doesn't really create a new array.\n",
        "arr2a = arr2[:2,:2]  \n",
        "arr2a[:1, :1] = 100  # 100 will reflect in arr2\n",
        "arr2"
      ],
      "metadata": {
        "colab": {
          "base_uri": "https://localhost:8080/"
        },
        "id": "144CU-2crh_g",
        "outputId": "b18ee90b-b006-4d00-bdfd-cf786cc65868"
      },
      "execution_count": 35,
      "outputs": [
        {
          "output_type": "execute_result",
          "data": {
            "text/plain": [
              "array([[100.,   2.,   3.,   4.],\n",
              "       [  3.,  -1.,  -1.,   6.],\n",
              "       [  5.,   6.,   7.,   8.]])"
            ]
          },
          "metadata": {},
          "execution_count": 35
        }
      ]
    },
    {
      "cell_type": "code",
      "source": [
        "# Copy portion of arr2 to arr2b\n",
        "arr2b = arr2[:2, :2].copy()\n",
        "arr2b[:1, :1] = 101  # 101 will not reflect in arr2\n",
        "arr2"
      ],
      "metadata": {
        "colab": {
          "base_uri": "https://localhost:8080/"
        },
        "id": "Ie-suXBorrwJ",
        "outputId": "a1125344-74a8-45a9-8ca9-4b828e0dd3b8"
      },
      "execution_count": 36,
      "outputs": [
        {
          "output_type": "execute_result",
          "data": {
            "text/plain": [
              "array([[100.,   2.,   3.,   4.],\n",
              "       [  3.,  -1.,  -1.,   6.],\n",
              "       [  5.,   6.,   7.,   8.]])"
            ]
          },
          "metadata": {},
          "execution_count": 36
        }
      ]
    },
    {
      "cell_type": "markdown",
      "source": [
        "# Reshaping and Flattening Multidimensional arrays\n",
        "\n",
        "Reshaping is changing the arrangement of items so that shape of the array changes while maintaining the same number of dimensions.\n",
        "\n",
        "Flattening, however, will convert a multi-dimensional array to a flat 1d array. And not any other shape."
      ],
      "metadata": {
        "id": "nGSio9CWr_RK"
      }
    },
    {
      "cell_type": "code",
      "source": [
        "# Reshape a 3x4 array to 4x3 array\n",
        "arr2.reshape(4, 3)"
      ],
      "metadata": {
        "colab": {
          "base_uri": "https://localhost:8080/"
        },
        "id": "0JKzIEykr-YD",
        "outputId": "3c91da99-1a02-4f0e-b09a-f182cb935004"
      },
      "execution_count": 37,
      "outputs": [
        {
          "output_type": "execute_result",
          "data": {
            "text/plain": [
              "array([[100.,   2.,   3.],\n",
              "       [  4.,   3.,  -1.],\n",
              "       [ -1.,   6.,   5.],\n",
              "       [  6.,   7.,   8.]])"
            ]
          },
          "metadata": {},
          "execution_count": 37
        }
      ]
    },
    {
      "cell_type": "code",
      "source": [
        "# Flatten it to a 1d array\n",
        "arr2.flatten()"
      ],
      "metadata": {
        "colab": {
          "base_uri": "https://localhost:8080/"
        },
        "id": "0HVloRFUscjS",
        "outputId": "dbc76269-df90-4a66-80f7-1bff5416ca20"
      },
      "execution_count": 38,
      "outputs": [
        {
          "output_type": "execute_result",
          "data": {
            "text/plain": [
              "array([100.,   2.,   3.,   4.,   3.,  -1.,  -1.,   6.,   5.,   6.,   7.,\n",
              "         8.])"
            ]
          },
          "metadata": {},
          "execution_count": 38
        }
      ]
    },
    {
      "cell_type": "markdown",
      "source": [
        "# Sequences, Random numbers\n",
        "The np.arange function comes handy to create customised number sequences as ndarray."
      ],
      "metadata": {
        "id": "RwXTfRj3sl_6"
      }
    },
    {
      "cell_type": "code",
      "source": [
        "# Lower limit is 0 be default\n",
        "print(np.arange(5))  \n",
        "\n",
        "# 0 to 9\n",
        "print(np.arange(0, 10))  \n",
        "\n",
        "# 0 to 9 with step of 2\n",
        "print(np.arange(0, 10, 2))  \n",
        "\n",
        "# 10 to 1, decreasing order\n",
        "print(np.arange(10, 0, -1))"
      ],
      "metadata": {
        "colab": {
          "base_uri": "https://localhost:8080/"
        },
        "id": "NAQwojZ7sqNP",
        "outputId": "1d37aa47-9804-45b1-d5e4-97eaa04d474e"
      },
      "execution_count": 7,
      "outputs": [
        {
          "output_type": "stream",
          "name": "stdout",
          "text": [
            "[0 1 2 3 4]\n",
            "[0 1 2 3 4 5 6 7 8 9]\n",
            "[0 2 4 6 8]\n",
            "[10  9  8  7  6  5  4  3  2  1]\n"
          ]
        }
      ]
    },
    {
      "cell_type": "code",
      "source": [
        "# One random number between [0,1)\n",
        "print(np.random.random())\n",
        "\n",
        "# Random numbers between [0,1) of shape 2,2\n",
        "print(np.random.random(size=[2,2]))"
      ],
      "metadata": {
        "colab": {
          "base_uri": "https://localhost:8080/"
        },
        "id": "H-KrcLpFtBO2",
        "outputId": "f9b95ae8-3917-4258-e021-8b348229d8cf"
      },
      "execution_count": 6,
      "outputs": [
        {
          "output_type": "stream",
          "name": "stdout",
          "text": [
            "0.21010774244258368\n",
            "[[0.4527399  0.87014264]\n",
            " [0.06368104 0.62431189]]\n"
          ]
        }
      ]
    },
    {
      "cell_type": "markdown",
      "source": [
        "# Get the unique items and the counts"
      ],
      "metadata": {
        "id": "23Z8d0B8thx8"
      }
    },
    {
      "cell_type": "code",
      "source": [
        "# Create random integers of size 10 between [0,10)\n",
        "np.random.seed(100)\n",
        "arr_rand = np.random.randint(0, 10, size=10)\n",
        "print(arr_rand)\n",
        "# Get the unique items and their counts\n",
        "uniqs, counts = np.unique(arr_rand, return_counts=True)\n",
        "print(\"Unique items : \", uniqs)\n",
        "print(\"Counts       : \", counts)"
      ],
      "metadata": {
        "colab": {
          "base_uri": "https://localhost:8080/"
        },
        "id": "F9QilKuOtkKD",
        "outputId": "7d4a3ad6-ebc7-4821-e218-0fc6bf190b75"
      },
      "execution_count": 5,
      "outputs": [
        {
          "output_type": "stream",
          "name": "stdout",
          "text": [
            "[8 8 3 7 7 0 4 2 5 2]\n",
            "Unique items :  [0 2 3 4 5 7 8]\n",
            "Counts       :  [1 2 1 1 1 2 2]\n"
          ]
        }
      ]
    },
    {
      "cell_type": "markdown",
      "source": [
        "# Exercises"
      ],
      "metadata": {
        "id": "CPgoL1mpEabP"
      }
    },
    {
      "cell_type": "markdown",
      "source": [
        "1. Create two 3 x 4 arrays A and B; output an array in which every element is an element-wise sum of the arrays A and B"
      ],
      "metadata": {
        "id": "B-dLudJtEqpz"
      }
    },
    {
      "cell_type": "code",
      "source": [
        "#code for Ex1\n",
        "\n",
        "import numpy as np\n",
        "\n",
        "A = np.random.randint(10, size=(3,4))\n",
        "print(\"A =\")\n",
        "print(A)\n",
        "\n",
        "B = np.random.randint(10, size=(3,4))\n",
        "print(\"B =\")\n",
        "print(B)\n",
        "\n",
        "C = A + B\n",
        "print(\"A + B =\")\n",
        "print(C)\n"
      ],
      "metadata": {
        "id": "WLhGCoxAEfDU",
        "colab": {
          "base_uri": "https://localhost:8080/"
        },
        "outputId": "7a705116-9108-439b-82bc-19ce758168bf"
      },
      "execution_count": 1,
      "outputs": [
        {
          "output_type": "stream",
          "name": "stdout",
          "text": [
            "A =\n",
            "[[9 3 4 2]\n",
            " [7 3 6 0]\n",
            " [7 5 0 7]]\n",
            "B =\n",
            "[[8 9 2 7]\n",
            " [7 0 6 4]\n",
            " [3 0 0 1]]\n",
            "A + B =\n",
            "[[17 12  6  9]\n",
            " [14  3 12  4]\n",
            " [10  5  0  8]]\n"
          ]
        }
      ]
    },
    {
      "cell_type": "markdown",
      "source": [
        "2. Create 4 x 4 identity matrix (use eye funciton)\n"
      ],
      "metadata": {
        "id": "XLE5uHe-FBcb"
      }
    },
    {
      "cell_type": "code",
      "source": [
        "#code for Ex2\n",
        "\n",
        "import numpy as np\n",
        "\n",
        "A = np.eye(4)\n",
        "print(A)\n"
      ],
      "metadata": {
        "id": "hfqCbz_xGcke",
        "colab": {
          "base_uri": "https://localhost:8080/"
        },
        "outputId": "c7ae2499-efc8-4be2-b29c-c0424579c2c6"
      },
      "execution_count": 4,
      "outputs": [
        {
          "output_type": "stream",
          "name": "stdout",
          "text": [
            "[[1. 0. 0. 0.]\n",
            " [0. 1. 0. 0.]\n",
            " [0. 0. 1. 0.]\n",
            " [0. 0. 0. 1.]]\n"
          ]
        }
      ]
    },
    {
      "cell_type": "markdown",
      "source": [
        "3. create a 1D array whose values are from sequence 1 to 27. Convert this array into 3D array i.e. 3 x 3 x 3"
      ],
      "metadata": {
        "id": "i1fLyoaNFZdD"
      }
    },
    {
      "cell_type": "code",
      "source": [
        "#code for Ex3\n",
        "\n",
        "import numpy as np\n",
        "\n",
        "arr = np.arange(1, 28)\n",
        "print(\"1D array:\")\n",
        "print(arr)\n",
        "\n",
        "arr_3d = arr.reshape((3, 3, 3))\n",
        "print(\"3D array:\")\n",
        "print(arr_3d)\n"
      ],
      "metadata": {
        "id": "wBMF8QWYGhI5",
        "colab": {
          "base_uri": "https://localhost:8080/"
        },
        "outputId": "c3cf333f-5c98-4e41-9dbc-54e4757bda79"
      },
      "execution_count": 5,
      "outputs": [
        {
          "output_type": "stream",
          "name": "stdout",
          "text": [
            "1D array:\n",
            "[ 1  2  3  4  5  6  7  8  9 10 11 12 13 14 15 16 17 18 19 20 21 22 23 24\n",
            " 25 26 27]\n",
            "3D array:\n",
            "[[[ 1  2  3]\n",
            "  [ 4  5  6]\n",
            "  [ 7  8  9]]\n",
            "\n",
            " [[10 11 12]\n",
            "  [13 14 15]\n",
            "  [16 17 18]]\n",
            "\n",
            " [[19 20 21]\n",
            "  [22 23 24]\n",
            "  [25 26 27]]]\n"
          ]
        }
      ]
    },
    {
      "cell_type": "markdown",
      "source": [
        "4. create a 3 x 3 float array Z and concert Convert all the elements of Z from float to integer datatype"
      ],
      "metadata": {
        "id": "eE3VzRQiGFA6"
      }
    },
    {
      "cell_type": "code",
      "source": [
        "#code for Ex4\n",
        "\n",
        "import numpy as np\n",
        "\n",
        "Z = np.array([[1.2, 2.5, 3.7], [4.1, 5.8, 6.9], [7.3, 8.6, 9.9]])\n",
        "print(\"Float array:\")\n",
        "print(Z)\n",
        "\n",
        "Z_int = Z.astype(int)\n",
        "print(\"Integer array:\")\n",
        "print(Z_int)\n"
      ],
      "metadata": {
        "id": "kq-OJQ2hGjvr",
        "colab": {
          "base_uri": "https://localhost:8080/"
        },
        "outputId": "f83a548c-8d23-4f77-a148-1a02d5828090"
      },
      "execution_count": 6,
      "outputs": [
        {
          "output_type": "stream",
          "name": "stdout",
          "text": [
            "Float array:\n",
            "[[1.2 2.5 3.7]\n",
            " [4.1 5.8 6.9]\n",
            " [7.3 8.6 9.9]]\n",
            "Integer array:\n",
            "[[1 2 3]\n",
            " [4 5 6]\n",
            " [7 8 9]]\n"
          ]
        }
      ]
    },
    {
      "cell_type": "markdown",
      "source": [
        "5. a1 = np.array([[1,2,3],\n",
        "               [4,5,6]])\n",
        "\n",
        "a2 = np.array([[7,8,9],\n",
        "               [10,11,12]])\n",
        "\n",
        "               stack a1 and a2 horizontally i.e. output array should be as follows\n",
        "               [[ 1  2  3  7  8  9]\n",
        "               [ 4  5  6 10 11 12]]"
      ],
      "metadata": {
        "id": "zkW7KK8uGagR"
      }
    },
    {
      "cell_type": "code",
      "source": [
        "#code for Ex5"
      ],
      "metadata": {
        "id": "g2aqOngYG1NP"
      },
      "execution_count": null,
      "outputs": []
    },
    {
      "cell_type": "markdown",
      "source": [
        "6. stack a1 and a2 vertically \n",
        "[[ 1  2]\n",
        " [ 3  4]\n",
        " [ 5  6]\n",
        " [ 7  8]\n",
        " [ 9 10]\n",
        " [10 11]]"
      ],
      "metadata": {
        "id": "mVUmETuSG1-L"
      }
    },
    {
      "cell_type": "code",
      "source": [
        "#code for Ex6\n",
        "\n",
        "import numpy as np\n",
        "\n",
        "a1 = np.array([[1, 2], [3, 4], [5, 6]])\n",
        "\n",
        "a2 = np.array([[7, 8], [9, 10], [10, 11]])\n",
        "\n",
        "result = np.vstack((a1, a2))\n",
        "print(result)\n"
      ],
      "metadata": {
        "id": "zOpEQenpHELE",
        "colab": {
          "base_uri": "https://localhost:8080/"
        },
        "outputId": "57d95059-1702-4577-8e48-9ed4bed2255e"
      },
      "execution_count": 7,
      "outputs": [
        {
          "output_type": "stream",
          "name": "stdout",
          "text": [
            "[[ 1  2]\n",
            " [ 3  4]\n",
            " [ 5  6]\n",
            " [ 7  8]\n",
            " [ 9 10]\n",
            " [10 11]]\n"
          ]
        }
      ]
    },
    {
      "cell_type": "markdown",
      "source": [
        "7. Create a numpy array for the even number sequence from 1 to 100"
      ],
      "metadata": {
        "id": "j6sFEDAyJupL"
      }
    },
    {
      "cell_type": "code",
      "source": [
        "import numpy as np\n",
        "\n",
        "arr = np.arange(1, 101)\n",
        "\n",
        "even_arr = arr[arr % 2 == 0]\n",
        "\n",
        "print(even_arr)\n"
      ],
      "metadata": {
        "id": "j5T_PtIfKDak",
        "colab": {
          "base_uri": "https://localhost:8080/"
        },
        "outputId": "e8ea8ea1-9d43-4de7-9a0d-8a9f05cb6704"
      },
      "execution_count": 8,
      "outputs": [
        {
          "output_type": "stream",
          "name": "stdout",
          "text": [
            "[  2   4   6   8  10  12  14  16  18  20  22  24  26  28  30  32  34  36\n",
            "  38  40  42  44  46  48  50  52  54  56  58  60  62  64  66  68  70  72\n",
            "  74  76  78  80  82  84  86  88  90  92  94  96  98 100]\n"
          ]
        }
      ]
    },
    {
      "cell_type": "markdown",
      "source": [
        "8. Find the indexes in which the elements in the 2 arrays A1 and A2 match\n",
        "A1 = np.array([10,2,3,4,5])\n",
        "\n",
        "A2 = np.array([10,3,2,4,5])"
      ],
      "metadata": {
        "id": "qlO6xj3yKD4f"
      }
    },
    {
      "cell_type": "code",
      "source": [
        "import numpy as np\n",
        "\n",
        "A1 = np.array([10, 2, 3, 4, 5])\n",
        "A2 = np.array([10, 3, 2, 4, 5])\n",
        "\n",
        "matches = np.where(A1 == A2)\n",
        "\n",
        "print(matches)\n"
      ],
      "metadata": {
        "id": "Dh-GbRveKiut",
        "colab": {
          "base_uri": "https://localhost:8080/"
        },
        "outputId": "eb31a6d9-bbde-43fd-a77e-0657f882657c"
      },
      "execution_count": 1,
      "outputs": [
        {
          "output_type": "stream",
          "name": "stdout",
          "text": [
            "(array([0, 3, 4]),)\n"
          ]
        }
      ]
    },
    {
      "cell_type": "markdown",
      "source": [
        "9. create a 2-by-3 matrix with each and every value equal to 5"
      ],
      "metadata": {
        "id": "flB7ZgxhKjEf"
      }
    },
    {
      "cell_type": "code",
      "source": [
        "import numpy as np\n",
        "\n",
        "arr = np.full((2, 3), 5)\n",
        "\n",
        "print(arr)\n"
      ],
      "metadata": {
        "id": "YMzp-DbcKw5s",
        "colab": {
          "base_uri": "https://localhost:8080/"
        },
        "outputId": "8369ecc0-7e5a-414b-9982-2081761bcced"
      },
      "execution_count": 2,
      "outputs": [
        {
          "output_type": "stream",
          "name": "stdout",
          "text": [
            "[[5 5 5]\n",
            " [5 5 5]]\n"
          ]
        }
      ]
    },
    {
      "cell_type": "markdown",
      "source": [
        "Output a 5-by-5 array of random integers between 0 (inclusive) and 10 (exclusive); Also print its transpose"
      ],
      "metadata": {
        "id": "zUcYJglNKxHN"
      }
    },
    {
      "cell_type": "code",
      "source": [
        "import numpy as np\n",
        "\n",
        "arr = np.random.randint(0, 10, size=(5, 5))\n",
        "\n",
        "print(\"Original array:\")\n",
        "print(arr)\n",
        "\n",
        "print(\"\\nTranspose of the array:\")\n",
        "print(arr.T)\n"
      ],
      "metadata": {
        "id": "LHOQrz0_LEa1",
        "colab": {
          "base_uri": "https://localhost:8080/"
        },
        "outputId": "2a42fa09-c9b7-413d-dfd2-b9e8cd981b62"
      },
      "execution_count": 3,
      "outputs": [
        {
          "output_type": "stream",
          "name": "stdout",
          "text": [
            "Original array:\n",
            "[[0 3 1 2 2]\n",
            " [9 8 4 2 1]\n",
            " [4 0 8 2 0]\n",
            " [4 8 8 7 5]\n",
            " [7 7 8 2 9]]\n",
            "\n",
            "Transpose of the array:\n",
            "[[0 9 4 4 7]\n",
            " [3 8 0 8 7]\n",
            " [1 4 8 8 8]\n",
            " [2 2 2 7 2]\n",
            " [2 1 0 5 9]]\n"
          ]
        }
      ]
    },
    {
      "cell_type": "markdown",
      "source": [
        "Output a 3-by-3 array of random numbers following normal distribution"
      ],
      "metadata": {
        "id": "kbVQhWs9LEvy"
      }
    },
    {
      "cell_type": "code",
      "source": [
        "import numpy as np\n",
        "\n",
        "arr = np.random.normal(size=(3, 3))\n",
        "\n",
        "print(arr)\n"
      ],
      "metadata": {
        "id": "6m2dLOaeLMOs",
        "colab": {
          "base_uri": "https://localhost:8080/"
        },
        "outputId": "7189641e-1bbc-48a1-bb2d-54e1803775f8"
      },
      "execution_count": 4,
      "outputs": [
        {
          "output_type": "stream",
          "name": "stdout",
          "text": [
            "[[ 0.3324377   1.41470086  1.98237605]\n",
            " [-0.93826872 -0.03205949  0.22855403]\n",
            " [-0.82065679 -0.06559236  0.22384277]]\n"
          ]
        }
      ]
    },
    {
      "cell_type": "markdown",
      "source": [],
      "metadata": {
        "id": "Hni7dWIoLLTT"
      }
    }
  ]
}